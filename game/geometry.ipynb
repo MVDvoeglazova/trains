{
  "nbformat": 4,
  "nbformat_minor": 0,
  "metadata": {
    "colab": {
      "provenance": []
    },
    "kernelspec": {
      "name": "python3",
      "display_name": "Python 3"
    },
    "language_info": {
      "name": "python"
    }
  },
  "cells": [
    {
      "cell_type": "markdown",
      "source": [],
      "metadata": {
        "id": "PAe0NpNPfOy5"
      }
    },
    {
      "cell_type": "code",
      "source": [
        "from math import cos, sin, radians\n",
        "import random"
      ],
      "metadata": {
        "id": "C-IwBLRpfPmx"
      },
      "execution_count": 5,
      "outputs": []
    },
    {
      "cell_type": "code",
      "execution_count": 149,
      "metadata": {
        "id": "7p7vr6FgfDcD"
      },
      "outputs": [],
      "source": [
        "class Line():\n",
        "\n",
        "  def __init__(self, begin: tuple, end: tuple):\n",
        "\n",
        "\n",
        "    self.begin = begin\n",
        "    self.end = end\n",
        "\n",
        "    self.start_x = self.begin[0]\n",
        "    self.start_y = self.begin[1]\n",
        "\n",
        "    self.end_x = self.end[0]\n",
        "    self.end_y = self.end[1]\n",
        "\n",
        "    self.points = [begin, end]\n",
        "    self.k = None\n",
        "    self.b = None\n",
        "\n",
        "    # для случая, когда уравнение имееет вид: x = const or y = const\n",
        "    self.x = None\n",
        "    self.y = None\n",
        "    self.constant = False\n",
        "\n",
        "  def straight_line(self):\n",
        "    '''\n",
        "    Рассчет коэффициентов прямой (k, b)\n",
        "    '''\n",
        "    if -0.01 <= self.start_x - self.end_x <= 0.01:\n",
        "      self.x = self.start_x\n",
        "      self.constant = self.start_x\n",
        "    elif -0.01 <= self.start_y - self.end_y <= 0.01:\n",
        "      self.y = self.start_y\n",
        "      self.constant = self.start_y\n",
        "    elif (self.start_x - self.end_x) != 0:\n",
        "        self.k = (self.start_y - self.end_y) / (self.start_x - self.end_x)\n",
        "        self.b = self.end_y - self.k * self.end_x\n",
        "\n",
        "  def f(self, x):\n",
        "    ''' Возвращает значение координаты у при заданной х'''\n",
        "    if not self.constant:\n",
        "      return self.k * x + self.b\n",
        "    return self.constant\n",
        "  def lenght(self):\n",
        "    ''' Возвращает длину линии'''\n",
        "\n",
        "    return (((self.start_x - self.end_x)**2 + (self.start_y - self.end_y)**2)**0.5)\n",
        "\n",
        "  def update(self):\n",
        "    '''\n",
        "    Обновление границ линии с учетом новых точек,\n",
        "    пересчет коэффициентов прямой\n",
        "    '''\n",
        "    self.points = sorted(self.points)\n",
        "    self.begin = self.points[0]\n",
        "    self.end = self.points[-1]\n",
        "    self.start_x = self.begin[0]\n",
        "    self.start_y = self.begin[1]\n",
        "    self.end_x = self.end[0]\n",
        "    self.end_y = self.end[1]\n",
        "    self.straight_line()\n",
        "\n",
        "  def isline(self, new_point: tuple, eps: float = 0.01):\n",
        "    '''\n",
        "    Проверка новой точки на принадлежность к линии\n",
        "    и запись в список точек линии при положительном исходе\n",
        "     '''\n",
        "    new_x = new_point[0]\n",
        "    new_y = new_point[1]\n",
        "\n",
        "    if new_y - eps <= self.f(new_x) <= new_y + eps:\n",
        "        self.points.append(new_point)\n",
        "        return True\n",
        "    else:\n",
        "        return False"
      ]
    },
    {
      "cell_type": "code",
      "source": [
        "point1 = (0, 0)\n",
        "point2 = (2, 10)"
      ],
      "metadata": {
        "id": "dhrPBDQ3fOic"
      },
      "execution_count": 77,
      "outputs": []
    },
    {
      "cell_type": "code",
      "source": [
        "line1 = Line(point1, point2)"
      ],
      "metadata": {
        "id": "J8OiBffnnMtv"
      },
      "execution_count": 78,
      "outputs": []
    },
    {
      "cell_type": "code",
      "source": [
        "line1.straight_line()\n",
        "line1.begin\n",
        "line1.end\n",
        "line1.start_x\n",
        "line1.end_y\n",
        "line1.isline((2, 10.02))\n",
        "line1.isline((24, 120))\n",
        "line1.update()"
      ],
      "metadata": {
        "id": "AFX1PEljnmwH"
      },
      "execution_count": 79,
      "outputs": []
    },
    {
      "cell_type": "code",
      "source": [
        "class angle():\n",
        "\n",
        "  def __init__(self, current_point, line1: Line, line2: Line):\n",
        "    self.alpha = radians(90.0)\n",
        "    self.x_train = current_point[0]\n",
        "    self.y_train = current_point[1]\n",
        "    self.line1 = line1\n",
        "    self.line2 = line2\n",
        "    self.points = line1.points + line2.points\n",
        "    self.x_intersection = None\n",
        "    self.y_intersection = None\n",
        "\n",
        "  def intersection_point(self):\n",
        "      '''\n",
        "      точка пересечения прямых, образующих угол\n",
        "      '''\n",
        "      if self.line1.constant:\n",
        "        if self.line1.x:\n",
        "          self.x_intersection = self.line1.x\n",
        "          if self.line2.y:\n",
        "             self.y_intersection = self.line2.y\n",
        "          else:\n",
        "              self.y_intersection = self.line2.k * self.x_intersection + self.line2.b\n",
        "\n",
        "        else:\n",
        "          self.y_intersection = self.line1.y\n",
        "          if self.line2.x:\n",
        "             self.x_intersection = self.line2.x\n",
        "          else:\n",
        "            self.x_intersection = self.y_intersection/self.line2.k - self.line2.b\n",
        "\n",
        "      else:\n",
        "        if self.line2.constant:\n",
        "          if self.line2.x:\n",
        "            self.x_intersection = self.line2.x\n",
        "          else:\n",
        "            self.y_intersection = self.line2.y\n",
        "\n",
        "\n",
        "        elif self.line1.k - self.line2.k != 0:\n",
        "          self.x_intersection = (self.line2.b - self.line1.b) / (self.line1.k - self.line2.k)\n",
        "          self.y_intersection = self.line1.k * self.x_intersection + self.line1.b\n",
        "\n",
        "\n",
        "\n",
        "  def lenght(self, x, y):\n",
        "    ''' Возвращает длину отрезка от поезда до заданной точки угла '''\n",
        "    return (((self.x_train - x)**2 + (self.y_train - y)**2)**0.5)\n",
        "\n",
        "  def isborder(self):\n",
        "    '''\n",
        "    len_intersection -  длина от поезда до точки пересечения\n",
        "    len_random_point - длина от поезда до рандомной точки линий, образующих угол\n",
        "\n",
        "    Возвращает True в случае, если угол является чатью границ поля\n",
        "    '''\n",
        "    #random_point = random.choice(self.points)\n",
        "    random_point = self.points[0]\n",
        "    # while random_point[0] == self.x_intersection and random_point[1] == self.y_intersection:\n",
        "    #   random_point = random.choice(self.points)\n",
        "\n",
        "    len_intersection = self.lenght(self.x_intersection, self.y_intersection)\n",
        "\n",
        "    len_random_point = self.lenght(random_point[0], random_point[1])\n",
        "    if len_intersection > 1.01 * len_random_point:\n",
        "      return True\n",
        "    else: return False\n"
      ],
      "metadata": {
        "id": "BlonkiLGs5Uu"
      },
      "execution_count": 185,
      "outputs": []
    },
    {
      "cell_type": "code",
      "source": [
        "point1 = (0, 4)\n",
        "point2 = (1, 4)\n",
        "l1 = Line(point1, point2)\n",
        "l1.straight_line()\n",
        "l1.isline((2, 4))\n",
        "l1.update()"
      ],
      "metadata": {
        "id": "3Zw2NWX6fM9Z"
      },
      "execution_count": 151,
      "outputs": []
    },
    {
      "cell_type": "code",
      "source": [
        "point_11 = (5, 1)\n",
        "point_22 = (5, 3)\n",
        "l2 = Line(point_11, point_22)\n",
        "l2.straight_line()\n",
        "l2.update()"
      ],
      "metadata": {
        "id": "eVEtwhR41BCB"
      },
      "execution_count": 159,
      "outputs": []
    },
    {
      "cell_type": "code",
      "source": [
        "pt = (2, 2)"
      ],
      "metadata": {
        "id": "eMFHF4OQ1WZ7"
      },
      "execution_count": 160,
      "outputs": []
    },
    {
      "cell_type": "code",
      "source": [
        "ang1 = angle(pt, l1, l2)\n",
        "ang1.intersection_point()\n",
        "ang1.isborder()"
      ],
      "metadata": {
        "id": "KuVEJZks1Z2E"
      },
      "execution_count": 162,
      "outputs": []
    },
    {
      "cell_type": "code",
      "source": [
        "class circle():\n",
        "\n",
        "  def __init__(self, points):\n",
        "\n",
        "    self.points = points\n",
        "\n",
        "    self.radius = None\n",
        "    self.xc = None\n",
        "    self.yc = None\n",
        "\n",
        "  def iscircle(self):\n",
        "    self.points = sorted(self.points)\n",
        ""
      ],
      "metadata": {
        "id": "14cZkKbBL388"
      },
      "execution_count": null,
      "outputs": []
    }
  ]
}